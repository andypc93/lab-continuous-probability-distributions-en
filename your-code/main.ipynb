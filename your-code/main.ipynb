{
 "cells": [
  {
   "cell_type": "markdown",
   "metadata": {},
   "source": [
    "# Before your start:\n",
    "\n",
    "    Read the README.md file\n",
    "    Comment as much as you can and use the resources (README.md file)\n",
    "    Happy learning!"
   ]
  },
  {
   "cell_type": "markdown",
   "metadata": {},
   "source": [
    "In this exercise, we  will generate random numbers from the continuous disributions we learned in the lesson. There are two ways to generate random numbers:\n",
    "\n",
    "1. Using the numpy library \n",
    "1. using the Scipy library \n",
    "\n",
    "Use either or both of the lbraries in this exercise."
   ]
  },
  {
   "cell_type": "code",
   "execution_count": null,
   "metadata": {},
   "outputs": [],
   "source": [
    "import matplotlib.pyplot as plt\n",
    "import pandas as pd\n",
    "import numpy as np\n",
    "import math\n",
    "import seaborn as sns"
   ]
  },
  {
   "cell_type": "markdown",
   "metadata": {},
   "source": [
    "## Uniform Distribution\n",
    "\n",
    "To generate uniform random numbers between any two given values using scipy, we can either use the following code or the code that we have\n",
    "discussed in class:"
   ]
  },
  {
   "cell_type": "code",
   "execution_count": null,
   "metadata": {},
   "outputs": [],
   "source": [
    "# your code here\n",
    "from scipy.stats import uniform\n",
    "\n",
    "start = 10  \n",
    "end = 20    \n",
    "size = 1000 \n",
    "\n",
    "random_numbers = uniform.rvs(loc=start, scale=end - start, size=size)\n",
    "\n",
    "print(\"First 10 uniform random numbers:\", random_numbers[:10])\n",
    "\n",
    "plt.figure(figsize=(10, 6))\n",
    "plt.hist(random_numbers, bins=20, density=True, color='skyblue', edgecolor='black')\n",
    "plt.title(\"Uniform Distribution Histogram\")\n",
    "plt.xlabel(\"Value\")\n",
    "plt.ylabel(\"Density\")\n",
    "plt.grid(alpha=0.7, linestyle='--')\n",
    "plt.show()\n"
   ]
  },
  {
   "cell_type": "markdown",
   "metadata": {},
   "source": [
    "**Your task:**\n",
    "\n",
    "1. Based on the code above, write a function that generates uniformly distributed random numbers. There are several requirements for your function:\n",
    "    * It should accept 3 parameters: \n",
    "        * `bottom` - the lower boundary of the generated numbers\n",
    "        * `ceiling` - the upper boundary of the generated numbers\n",
    "        * `count` - how many numbers to generate\n",
    "    * It should return an array of uniformly distributed random numbers\n",
    "\n",
    "1. Call your function with 2 sets of params below:\n",
    "    * bottom=10, ceiling=15, count=100\n",
    "    * bottom=10, ceiling=60, count=1,000\n",
    "\n",
    "1. Plot the uniform distributions generated above using histograms, where x axis is the value and y axis is the count. Let the histogram's number of bins be 10.\n",
    "\n",
    "Your output should look like below:\n",
    "\n",
    "![uniform distribution](ud.png)"
   ]
  },
  {
   "cell_type": "code",
   "execution_count": null,
   "metadata": {},
   "outputs": [],
   "source": [
    "# your code here\n",
    "def generate_uniform_random_numbers(bottom, ceiling, count):\n",
    "    return uniform.rvs(loc=bottom, scale=ceiling - bottom, size=count)"
   ]
  },
  {
   "cell_type": "code",
   "execution_count": null,
   "metadata": {},
   "outputs": [],
   "source": [
    "# your code here\n",
    "params = [\n",
    "    (10, 15, 100),\n",
    "    (10, 60, 1000)\n",
    "]"
   ]
  },
  {
   "cell_type": "code",
   "execution_count": null,
   "metadata": {},
   "outputs": [],
   "source": [
    "# your code here\n",
    "for bottom, ceiling, count in params:\n",
    "    data = generate_uniform_random_numbers(bottom, ceiling, count)\n",
    "\n",
    "    plt.figure(figsize=(10, 6))\n",
    "    plt.hist(data, bins=10, color='skyblue', edgecolor='black', alpha=0.7)\n",
    "    plt.title(f\"Uniform Distribution Histogram (bottom={bottom}, ceiling={ceiling}, count={count})\")\n",
    "    plt.xlabel(\"Value\")\n",
    "    plt.ylabel(\"Count\")\n",
    "    plt.grid(axis='y', linestyle='--', alpha=0.7)\n",
    "    plt.show()"
   ]
  },
  {
   "cell_type": "markdown",
   "metadata": {},
   "source": [
    "How are the two distributions different?"
   ]
  },
  {
   "cell_type": "markdown",
   "metadata": {},
   "source": [
    "# your answer below:\n",
    "The two distributions in the histograms differ in **scale** and **sample size**, which affects their appearance:\n",
    "\n",
    "1. **Scale**\n",
    "2. **Sample Size**\n",
    "\n",
    "### Observations:\n",
    "- Larger sample sizes create smoother distributions that better represent the theoretical uniform distribution.\n",
    "- Wider ranges result in a larger spread of values, which makes the bins cover a broader interval.\n",
    "\n",
    "---"
   ]
  },
  {
   "cell_type": "markdown",
   "metadata": {},
   "source": [
    "## Normal Distribution\n",
    "\n",
    "1. In the same way in the Uniform Distribution challenge, write a function that generates normally distributed random numbers.\n",
    "1. Generate 1,000 normally distributed numbers with the average of 10 and standard deviation of 1\n",
    "1. Generate 1,000 normally distributed numbers with the average of 10 and standard deviation of 50\n",
    "2. Plot the distributions of the data generated.\n",
    "\n",
    "Expected output:\n",
    "\n",
    "![normal distribution](nd.png)"
   ]
  },
  {
   "cell_type": "code",
   "execution_count": null,
   "metadata": {},
   "outputs": [],
   "source": [
    "from scipy.stats import norm "
   ]
  },
  {
   "cell_type": "code",
   "execution_count": null,
   "metadata": {},
   "outputs": [],
   "source": [
    "# your code here\n",
    "def generate_normal_random_numbers(mean, std_dev, count):\n",
    "    return norm.rvs(loc=mean, scale=std_dev, size=count)"
   ]
  },
  {
   "cell_type": "code",
   "execution_count": null,
   "metadata": {},
   "outputs": [],
   "source": [
    "# your code here\n",
    "data1 = generate_normal_random_numbers(mean=10, std_dev=1, count=1000)\n"
   ]
  },
  {
   "cell_type": "code",
   "execution_count": null,
   "metadata": {},
   "outputs": [],
   "source": [
    "# your code here\n",
    "data2 = generate_normal_random_numbers(mean=10, std_dev=50, count=1000)\n"
   ]
  },
  {
   "cell_type": "code",
   "execution_count": null,
   "metadata": {},
   "outputs": [],
   "source": [
    "# your code here\n",
    "plt.figure(figsize=(12, 6))\n",
    "\n",
    "plt.subplot(1, 2, 1)\n",
    "plt.hist(data1, bins=30, color='skyblue', edgecolor='black', alpha=0.7)\n",
    "plt.title(\"Normal Distribution (mean=10, std_dev=1)\")\n",
    "plt.xlabel(\"Value\")\n",
    "plt.ylabel(\"Count\")\n",
    "\n",
    "plt.subplot(1, 2, 2)\n",
    "plt.hist(data2, bins=30, color='skyblue', edgecolor='black', alpha=0.7)\n",
    "plt.title(\"Normal Distribution (mean=10, std_dev=50)\")\n",
    "plt.xlabel(\"Value\")\n",
    "plt.ylabel(\"Count\")\n",
    "\n",
    "plt.tight_layout()\n",
    "plt.show()"
   ]
  },
  {
   "cell_type": "markdown",
   "metadata": {},
   "source": [
    "How are the two distributions different?"
   ]
  },
  {
   "cell_type": "markdown",
   "metadata": {
    "vscode": {
     "languageId": "raw"
    }
   },
   "source": [
    "# Your answer here:\n",
    "\n",
    "The two distributions differ primarily in their spread, which is determined by the standard deviation:\n",
    "\n",
    "1. **Left Distribution (std_dev = 1)**:\n",
    "   - The data is tightly clustered around the mean.\n",
    "   - Smaller standard deviation results in a narrower bell-shaped curve.\n",
    "\n",
    "2. **Right Distribution (std_dev = 50)**:\n",
    "   - The data is much more spread out from the mean.\n",
    "   - Larger standard deviation results in a wider bell-shaped curve, showing higher variability in the values.\n",
    "\n",
    "### Observations:\n",
    "- **Standard Deviation** controls how spread out the data is around the mean.\n",
    "- Both distributions have the same mean, but the spread is drastically different due to the difference in standard deviation.\n",
    "\n",
    "---"
   ]
  },
  {
   "cell_type": "markdown",
   "metadata": {},
   "source": [
    "## Normal Distribution of Real Data\n",
    "\n",
    "In this challenge we are going to take a look the real data. We will use vehicles.csv file for this exercise"
   ]
  },
  {
   "cell_type": "code",
   "execution_count": null,
   "metadata": {},
   "outputs": [],
   "source": [
    "# your code here\n",
    "vehicles = pd.read_csv('vehicles.csv')"
   ]
  },
  {
   "cell_type": "markdown",
   "metadata": {},
   "source": [
    "First import vehicles.csv.\n",
    "Then plot the histograms for the following variables:\n",
    "\n",
    "1. Fuel Barrels/Year"
   ]
  },
  {
   "cell_type": "code",
   "execution_count": null,
   "metadata": {},
   "outputs": [],
   "source": [
    "# your code here\n",
    "plt.figure(figsize=(10, 6))\n",
    "plt.hist(vehicles['Fuel Barrels/Year'], bins=30, color='skyblue', edgecolor='black', alpha=0.7)\n",
    "plt.title(\"Fuel Barrels/Year Histogram\")\n",
    "plt.xlabel(\"Fuel Barrels/Year\")\n",
    "plt.ylabel(\"Frequency\")\n",
    "plt.grid(axis='y', linestyle='--', alpha=0.7)\n",
    "plt.show()"
   ]
  },
  {
   "cell_type": "markdown",
   "metadata": {},
   "source": [
    "2. CO2 Emission Grams/Mile "
   ]
  },
  {
   "cell_type": "code",
   "execution_count": null,
   "metadata": {},
   "outputs": [],
   "source": [
    "# your code here\n",
    "plt.figure(figsize=(10, 6))\n",
    "plt.hist(vehicles['Fuel Barrels/Year'], bins=30, color='skyblue', edgecolor='black', alpha=0.7)\n",
    "plt.title(\"Fuel Barrels/Year Histogram\")\n",
    "plt.xlabel(\"Fuel Barrels/Year\")\n",
    "plt.ylabel(\"Frequency\")\n",
    "plt.grid(axis='y', linestyle='--', alpha=0.7)\n",
    "plt.show()"
   ]
  },
  {
   "cell_type": "markdown",
   "metadata": {},
   "source": [
    "3. Combined MPG"
   ]
  },
  {
   "cell_type": "code",
   "execution_count": null,
   "metadata": {},
   "outputs": [],
   "source": [
    "# your code here\n",
    "plt.figure(figsize=(10, 6))\n",
    "plt.hist(vehicles['Combined MPG'], bins=30, color='orange', edgecolor='black', alpha=0.7)\n",
    "plt.title(\"Combined MPG Histogram\")\n",
    "plt.xlabel(\"Combined MPG\")\n",
    "plt.ylabel(\"Frequency\")\n",
    "plt.grid(axis='y', linestyle='--', alpha=0.7)\n",
    "plt.show()"
   ]
  },
  {
   "cell_type": "markdown",
   "metadata": {},
   "source": [
    "Which one(s) of the variables are nearly normally distributed? How do you know?"
   ]
  },
  {
   "cell_type": "markdown",
   "metadata": {},
   "source": [
    "# your code here\n",
    "\n",
    "### Analysis of the Histograms:\n",
    "1. **Fuel Barrels/Year**:\n",
    "   - The histogram appears roughly symmetric and bell-shaped.\n",
    "   - It could be considered nearly normal, as the distribution does not show significant skewness or multiple peaks.\n",
    "\n",
    "2. **CO2 Emission Grams/Mile**:\n",
    "   - This histogram may also be considered nearly normal, as it is symmetric and unimodal.\n",
    "   - However, it shows slight skewness to the right, which might indicate it is not perfectly normal.\n",
    "\n",
    "3. **Combined MPG**:\n",
    "   - This histogram is **not normally distributed**.\n",
    "   - It is skewed to the right, with a long tail of higher MPG values and a concentration of values on the left side.\n",
    "\n",
    "### Conclusion:\n",
    "- **Nearly Normally Distributed**:\n",
    "  - **Fuel Barrels/Year** and **CO2 Emission Grams/Mile**.\n",
    "- **Not Normally Distributed**:\n",
    "  - **Combined MPG**, due to right skewness.\n",
    "    \n",
    "---"
   ]
  },
  {
   "cell_type": "markdown",
   "metadata": {},
   "source": [
    "None of them are normally ditributed. "
   ]
  },
  {
   "cell_type": "markdown",
   "metadata": {},
   "source": [
    "## Exponential Distribution"
   ]
  },
  {
   "cell_type": "markdown",
   "metadata": {},
   "source": [
    "1. Using `numpy.random.exponential`, create a function that returns a list of numbers exponentially distributed with the mean of 10. \n",
    "\n",
    "1. Use the function to generate two number sequences with the size of 10 and 100.\n",
    "\n",
    "1. Plot the distributions as histograms with the nubmer of bins as 100.\n",
    "\n",
    "Your output should look like below:\n",
    "\n",
    "![exponential distribution](ed.png)"
   ]
  },
  {
   "cell_type": "code",
   "execution_count": null,
   "metadata": {},
   "outputs": [],
   "source": [
    "# your code here\n",
    "def generate_exponential_data(mean, size):\n",
    "    return np.random.exponential(scale=mean, size=size)\n",
    "\n",
    "data1 = generate_exponential_data(mean=10, size=100)\n",
    "data2 = generate_exponential_data(mean=10, size=1000)\n",
    "\n",
    "plt.figure(figsize=(12, 6))\n",
    "\n",
    "plt.subplot(1, 2, 1)\n",
    "plt.hist(data1, bins=100, color='skyblue', edgecolor='black', alpha=0.7)\n",
    "plt.title(\"Exponential Distribution (Size=100, Mean=10)\")\n",
    "plt.xlabel(\"Value\")\n",
    "plt.ylabel(\"Frequency\")\n",
    "\n",
    "plt.subplot(1, 2, 2)\n",
    "plt.hist(data2, bins=100, color='skyblue', edgecolor='black', alpha=0.7)\n",
    "plt.title(\"Exponential Distribution (Size=1000, Mean=10)\")\n",
    "plt.xlabel(\"Value\")\n",
    "plt.ylabel(\"Frequency\")\n",
    "\n",
    "plt.tight_layout()\n",
    "plt.show()"
   ]
  },
  {
   "cell_type": "markdown",
   "metadata": {},
   "source": [
    "How are the two distributions different?\n",
    "\n",
    "The two distributions differ in the following ways:\n",
    "\n",
    "1. **Sample Size**:\n",
    "   - The left distribution has a smaller sample size (`Size=100`), which causes more variability in the histogram. The bins fluctuate due to the smaller number of data points.\n",
    "   - The right distribution has a larger sample size (`Size=1000`), leading to a smoother histogram that more closely follows the theoretical exponential shape.\n",
    "\n",
    "2. **Smoothness**:\n",
    "   - With fewer data points in the smaller sample, the histogram appears less smooth and consistent.\n",
    "   - With more data points in the larger sample, the histogram better represents the exponential decay expected in the distribution.\n",
    "\n",
    "3. **Histogram Shape**:\n",
    "   - Both distributions follow the same **exponential decay** shape, but the smaller sample size introduces more noise and inconsistencies.\n",
    "\n"
   ]
  },
  {
   "cell_type": "markdown",
   "metadata": {},
   "source": [
    "The mean changes, so the distribution changes as well. "
   ]
  },
  {
   "cell_type": "markdown",
   "metadata": {},
   "source": [
    "## Exponential Distribution of Real Data\n",
    "\n",
    "Suppose that the amount of time one spends in a bank is exponentially distributed with mean as 10 minutes (i.e. λ = 1/10). What is the probability that a customer will spend less than fifteen minutes in the bank? \n",
    "\n",
    "Write a code in python to solve this problem"
   ]
  },
  {
   "cell_type": "code",
   "execution_count": null,
   "metadata": {},
   "outputs": [],
   "source": [
    "# your code here\n",
    "\n",
    "mean = 10  # Mean time in minutes\n",
    "lambda_ = 1 / mean  # Rate parameter (λ = 1/mean)\n",
    "time = 15  # Time in question"
   ]
  },
  {
   "cell_type": "code",
   "execution_count": null,
   "metadata": {
    "scrolled": true
   },
   "outputs": [],
   "source": [
    "# your answer here\n",
    "# Hint: This is same as saying P(x<15)\n",
    "\n",
    "probability_less_than_15 = 1 - math.exp(-lambda_ * time)\n",
    "print(f\"The probability that the customer will spend less than 15 minutes is: {probability_less_than_15:.4f}\")"
   ]
  },
  {
   "cell_type": "markdown",
   "metadata": {},
   "source": [
    "What is the probability that the customer will spend more than 15 minutes"
   ]
  },
  {
   "cell_type": "code",
   "execution_count": null,
   "metadata": {},
   "outputs": [],
   "source": [
    "# your code here\n",
    "\n",
    "probability_more_than_15 = math.exp(-lambda_ * time)\n",
    "print(f\"The probability that the customer will spend more than 15 minutes is: {probability_more_than_15:.4f}\")"
   ]
  }
 ],
 "metadata": {
  "kernelspec": {
   "display_name": "Python [conda env:base] *",
   "language": "python",
   "name": "conda-base-py"
  },
  "language_info": {
   "codemirror_mode": {
    "name": "ipython",
    "version": 3
   },
   "file_extension": ".py",
   "mimetype": "text/x-python",
   "name": "python",
   "nbconvert_exporter": "python",
   "pygments_lexer": "ipython3",
   "version": "3.12.7"
  }
 },
 "nbformat": 4,
 "nbformat_minor": 4
}
